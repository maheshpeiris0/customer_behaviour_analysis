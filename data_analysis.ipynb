{
 "cells": [
  {
   "cell_type": "code",
   "execution_count": 24,
   "metadata": {},
   "outputs": [],
   "source": [
    "import pandas as pd\n",
    "import numpy as np"
   ]
  },
  {
   "cell_type": "code",
   "execution_count": 45,
   "metadata": {},
   "outputs": [],
   "source": [
    "df = pd.read_csv('s3://data-files-http/customer_data.csv')"
   ]
  },
  {
   "cell_type": "code",
   "execution_count": 46,
   "metadata": {},
   "outputs": [
    {
     "name": "stdout",
     "output_type": "stream",
     "text": [
      "(99933, 17)\n"
     ]
    }
   ],
   "source": [
    "# 1. How many rows and columns are there?\n",
    "print(df.shape)"
   ]
  },
  {
   "cell_type": "code",
   "execution_count": 47,
   "metadata": {},
   "outputs": [
    {
     "name": "stdout",
     "output_type": "stream",
     "text": [
      "Index(['UCID', ' GENDER', ' AGE_GROUP2', ' MEMBERSHIP_DATE',\n",
      "       ' BRAND_REPORTING', ' LOCATION_NAME_REPORTING', ' STORE_COUNTRY',\n",
      "       ' BUSINESS_CHANNEL', ' INVOICE_NO', '  NET_SALES_AMOUNT ', ' SALES_QTY',\n",
      "       '  DISCOUNT_AMOUNT ', ' DAY_DT', ' DIV_NAME', ' DEPT_NAME',\n",
      "       ' CLASS_NAME', ' SUBCLASS_NAME'],\n",
      "      dtype='object')\n"
     ]
    }
   ],
   "source": [
    "# 2. What are the column names?\n",
    "print(df.columns)"
   ]
  },
  {
   "cell_type": "code",
   "execution_count": 48,
   "metadata": {},
   "outputs": [],
   "source": [
    "df.columns = df.columns.str.strip()"
   ]
  },
  {
   "cell_type": "code",
   "execution_count": 49,
   "metadata": {},
   "outputs": [
    {
     "data": {
      "text/plain": [
       "UCID                          0\n",
       "GENDER                        0\n",
       "AGE_GROUP2                    0\n",
       "MEMBERSHIP_DATE            2327\n",
       "BRAND_REPORTING               0\n",
       "LOCATION_NAME_REPORTING       0\n",
       "STORE_COUNTRY                 0\n",
       "BUSINESS_CHANNEL              0\n",
       "INVOICE_NO                    0\n",
       "NET_SALES_AMOUNT              0\n",
       "SALES_QTY                     0\n",
       "DISCOUNT_AMOUNT               0\n",
       "DAY_DT                        0\n",
       "DIV_NAME                      5\n",
       "DEPT_NAME                     5\n",
       "CLASS_NAME                    5\n",
       "SUBCLASS_NAME                 5\n",
       "dtype: int64"
      ]
     },
     "execution_count": 49,
     "metadata": {},
     "output_type": "execute_result"
    }
   ],
   "source": [
    "df.isnull().sum()"
   ]
  },
  {
   "cell_type": "code",
   "execution_count": 50,
   "metadata": {},
   "outputs": [
    {
     "name": "stdout",
     "output_type": "stream",
     "text": [
      "UCID                         int64\n",
      "GENDER                      object\n",
      "AGE_GROUP2                  object\n",
      "MEMBERSHIP_DATE             object\n",
      "BRAND_REPORTING             object\n",
      "LOCATION_NAME_REPORTING     object\n",
      "STORE_COUNTRY               object\n",
      "BUSINESS_CHANNEL            object\n",
      "INVOICE_NO                 float64\n",
      "NET_SALES_AMOUNT            object\n",
      "SALES_QTY                  float64\n",
      "DISCOUNT_AMOUNT             object\n",
      "DAY_DT                      object\n",
      "DIV_NAME                    object\n",
      "DEPT_NAME                   object\n",
      "CLASS_NAME                  object\n",
      "SUBCLASS_NAME               object\n",
      "dtype: object\n"
     ]
    }
   ],
   "source": [
    "# 3. What are the data types of each column?\n",
    "print(df.dtypes)\n"
   ]
  },
  {
   "cell_type": "code",
   "execution_count": null,
   "metadata": {},
   "outputs": [],
   "source": []
  },
  {
   "cell_type": "code",
   "execution_count": 51,
   "metadata": {},
   "outputs": [
    {
     "data": {
      "text/html": [
       "<div>\n",
       "<style scoped>\n",
       "    .dataframe tbody tr th:only-of-type {\n",
       "        vertical-align: middle;\n",
       "    }\n",
       "\n",
       "    .dataframe tbody tr th {\n",
       "        vertical-align: top;\n",
       "    }\n",
       "\n",
       "    .dataframe thead th {\n",
       "        text-align: right;\n",
       "    }\n",
       "</style>\n",
       "<table border=\"1\" class=\"dataframe\">\n",
       "  <thead>\n",
       "    <tr style=\"text-align: right;\">\n",
       "      <th></th>\n",
       "      <th>UCID</th>\n",
       "      <th>GENDER</th>\n",
       "      <th>AGE_GROUP2</th>\n",
       "      <th>MEMBERSHIP_DATE</th>\n",
       "      <th>BRAND_REPORTING</th>\n",
       "      <th>LOCATION_NAME_REPORTING</th>\n",
       "      <th>STORE_COUNTRY</th>\n",
       "      <th>BUSINESS_CHANNEL</th>\n",
       "      <th>INVOICE_NO</th>\n",
       "      <th>NET_SALES_AMOUNT</th>\n",
       "      <th>SALES_QTY</th>\n",
       "      <th>DISCOUNT_AMOUNT</th>\n",
       "      <th>DAY_DT</th>\n",
       "      <th>DIV_NAME</th>\n",
       "      <th>DEPT_NAME</th>\n",
       "      <th>CLASS_NAME</th>\n",
       "      <th>SUBCLASS_NAME</th>\n",
       "    </tr>\n",
       "  </thead>\n",
       "  <tbody>\n",
       "    <tr>\n",
       "      <th>0</th>\n",
       "      <td>1000007535</td>\n",
       "      <td>Female</td>\n",
       "      <td>0-14</td>\n",
       "      <td>2010-02-16</td>\n",
       "      <td>Brand 3</td>\n",
       "      <td>Brand 3-Dhahran Mall, Dhahran</td>\n",
       "      <td>KSA</td>\n",
       "      <td>Offline</td>\n",
       "      <td>7.373000e+18</td>\n",
       "      <td>$331.10</td>\n",
       "      <td>1.0</td>\n",
       "      <td>$-</td>\n",
       "      <td>2022-03-18</td>\n",
       "      <td>Home, Tech &amp; Equipment</td>\n",
       "      <td>Travel Equipment</td>\n",
       "      <td>Travel Accessories</td>\n",
       "      <td>Snuggle Me</td>\n",
       "    </tr>\n",
       "    <tr>\n",
       "      <th>1</th>\n",
       "      <td>1000007535</td>\n",
       "      <td>Female</td>\n",
       "      <td>0-14</td>\n",
       "      <td>2010-02-16</td>\n",
       "      <td>Brand 3</td>\n",
       "      <td>Brand 3-Dhahran Mall, Dhahran</td>\n",
       "      <td>KSA</td>\n",
       "      <td>Offline</td>\n",
       "      <td>7.373000e+18</td>\n",
       "      <td>$16.17</td>\n",
       "      <td>1.0</td>\n",
       "      <td>$-</td>\n",
       "      <td>2022-03-18</td>\n",
       "      <td>Fashion</td>\n",
       "      <td>Accessories</td>\n",
       "      <td>Kids &amp; Baby Accessories</td>\n",
       "      <td>Accessories Sets</td>\n",
       "    </tr>\n",
       "    <tr>\n",
       "      <th>2</th>\n",
       "      <td>1000007535</td>\n",
       "      <td>Female</td>\n",
       "      <td>0-14</td>\n",
       "      <td>2010-02-16</td>\n",
       "      <td>Brand 3</td>\n",
       "      <td>Brand 3-Dhahran Mall, Dhahran</td>\n",
       "      <td>KSA</td>\n",
       "      <td>Offline</td>\n",
       "      <td>7.373000e+18</td>\n",
       "      <td>$75.75</td>\n",
       "      <td>1.0</td>\n",
       "      <td>$-</td>\n",
       "      <td>2022-03-18</td>\n",
       "      <td>Fashion</td>\n",
       "      <td>Clothing</td>\n",
       "      <td>Rompers</td>\n",
       "      <td>Rompers</td>\n",
       "    </tr>\n",
       "    <tr>\n",
       "      <th>3</th>\n",
       "      <td>1000007535</td>\n",
       "      <td>Female</td>\n",
       "      <td>0-14</td>\n",
       "      <td>2010-02-16</td>\n",
       "      <td>Brand 3</td>\n",
       "      <td>Brand 3-Dhahran Mall, Dhahran</td>\n",
       "      <td>KSA</td>\n",
       "      <td>Offline</td>\n",
       "      <td>7.373000e+18</td>\n",
       "      <td>$50.22</td>\n",
       "      <td>1.0</td>\n",
       "      <td>$19.58</td>\n",
       "      <td>2022-03-18</td>\n",
       "      <td>Fashion</td>\n",
       "      <td>Accessories</td>\n",
       "      <td>Kids &amp; Baby Accessories</td>\n",
       "      <td>Bibs</td>\n",
       "    </tr>\n",
       "    <tr>\n",
       "      <th>4</th>\n",
       "      <td>1000007535</td>\n",
       "      <td>Female</td>\n",
       "      <td>0-14</td>\n",
       "      <td>2010-02-16</td>\n",
       "      <td>Brand 3</td>\n",
       "      <td>Brand 3-Dhahran Mall, Dhahran</td>\n",
       "      <td>KSA</td>\n",
       "      <td>Offline</td>\n",
       "      <td>7.373000e+18</td>\n",
       "      <td>$122.99</td>\n",
       "      <td>1.0</td>\n",
       "      <td>$53.35</td>\n",
       "      <td>2022-03-18</td>\n",
       "      <td>Home, Tech &amp; Equipment</td>\n",
       "      <td>Textiles &amp; Interiors</td>\n",
       "      <td>Bedding</td>\n",
       "      <td>Blankets</td>\n",
       "    </tr>\n",
       "  </tbody>\n",
       "</table>\n",
       "</div>"
      ],
      "text/plain": [
       "         UCID  GENDER AGE_GROUP2 MEMBERSHIP_DATE BRAND_REPORTING   \n",
       "0  1000007535  Female       0-14      2010-02-16         Brand 3  \\\n",
       "1  1000007535  Female       0-14      2010-02-16         Brand 3   \n",
       "2  1000007535  Female       0-14      2010-02-16         Brand 3   \n",
       "3  1000007535  Female       0-14      2010-02-16         Brand 3   \n",
       "4  1000007535  Female       0-14      2010-02-16         Brand 3   \n",
       "\n",
       "         LOCATION_NAME_REPORTING STORE_COUNTRY BUSINESS_CHANNEL    INVOICE_NO   \n",
       "0  Brand 3-Dhahran Mall, Dhahran           KSA          Offline  7.373000e+18  \\\n",
       "1  Brand 3-Dhahran Mall, Dhahran           KSA          Offline  7.373000e+18   \n",
       "2  Brand 3-Dhahran Mall, Dhahran           KSA          Offline  7.373000e+18   \n",
       "3  Brand 3-Dhahran Mall, Dhahran           KSA          Offline  7.373000e+18   \n",
       "4  Brand 3-Dhahran Mall, Dhahran           KSA          Offline  7.373000e+18   \n",
       "\n",
       "  NET_SALES_AMOUNT  SALES_QTY DISCOUNT_AMOUNT      DAY_DT   \n",
       "0         $331.10         1.0           $-     2022-03-18  \\\n",
       "1          $16.17         1.0           $-     2022-03-18   \n",
       "2          $75.75         1.0           $-     2022-03-18   \n",
       "3          $50.22         1.0         $19.58   2022-03-18   \n",
       "4         $122.99         1.0         $53.35   2022-03-18   \n",
       "\n",
       "                 DIV_NAME             DEPT_NAME               CLASS_NAME   \n",
       "0  Home, Tech & Equipment      Travel Equipment       Travel Accessories  \\\n",
       "1                 Fashion           Accessories  Kids & Baby Accessories   \n",
       "2                 Fashion              Clothing                  Rompers   \n",
       "3                 Fashion           Accessories  Kids & Baby Accessories   \n",
       "4  Home, Tech & Equipment  Textiles & Interiors                  Bedding   \n",
       "\n",
       "      SUBCLASS_NAME  \n",
       "0        Snuggle Me  \n",
       "1  Accessories Sets  \n",
       "2           Rompers  \n",
       "3              Bibs  \n",
       "4          Blankets  "
      ]
     },
     "execution_count": 51,
     "metadata": {},
     "output_type": "execute_result"
    }
   ],
   "source": [
    "# dataframe head()\n",
    "df.head()"
   ]
  },
  {
   "cell_type": "code",
   "execution_count": 52,
   "metadata": {},
   "outputs": [],
   "source": [
    "df['NET_SALES_AMOUNT']=df['NET_SALES_AMOUNT'].str.replace('$','').str.replace('-','0').str.replace(',','').str.replace('(','-').str.replace(')','').astype(float)"
   ]
  },
  {
   "cell_type": "code",
   "execution_count": 53,
   "metadata": {},
   "outputs": [],
   "source": [
    "df['DISCOUNT_AMOUNT']=df['DISCOUNT_AMOUNT'].str.replace('$','').str.replace('-','0').str.replace(',','').str.replace('(','-').str.replace(')','').astype(float)"
   ]
  },
  {
   "cell_type": "code",
   "execution_count": 54,
   "metadata": {},
   "outputs": [
    {
     "data": {
      "text/plain": [
       "AGE_GROUP2\n",
       "0-14             210421.67\n",
       "15-19             38945.41\n",
       "20-24            327218.35\n",
       "25-34           9928820.42\n",
       "35-44          31097018.02\n",
       "45-54          25604973.76\n",
       "55+            14065311.24\n",
       "UnSpecified     6172050.85\n",
       "Name: NET_SALES_AMOUNT, dtype: float64"
      ]
     },
     "execution_count": 54,
     "metadata": {},
     "output_type": "execute_result"
    }
   ],
   "source": [
    "# group by net_sales_amount by gender\n",
    "df.groupby('AGE_GROUP2')['NET_SALES_AMOUNT'].sum()"
   ]
  },
  {
   "cell_type": "code",
   "execution_count": 55,
   "metadata": {},
   "outputs": [
    {
     "data": {
      "text/plain": [
       "<Axes: xlabel='AGE_GROUP2'>"
      ]
     },
     "execution_count": 55,
     "metadata": {},
     "output_type": "execute_result"
    },
    {
     "data": {
      "image/png": "[encoded data removed]",
      "text/plain": [
       "<Figure size 640x480 with 1 Axes>"
      ]
     },
     "metadata": {},
     "output_type": "display_data"
    }
   ],
   "source": [
    "df.groupby('AGE_GROUP2')['NET_SALES_AMOUNT'].sum().plot(kind='bar')"
   ]
  },
  {
   "cell_type": "code",
   "execution_count": 57,
   "metadata": {},
   "outputs": [
    {
     "data": {
      "text/plain": [
       "<Axes: xlabel='DIV_NAME'>"
      ]
     },
     "execution_count": 57,
     "metadata": {},
     "output_type": "execute_result"
    },
    {
     "data": {
      "image/png": "[encoded data removed]",
      "text/plain": [
       "<Figure size 640x480 with 1 Axes>"
      ]
     },
     "metadata": {},
     "output_type": "display_data"
    }
   ],
   "source": [
    "df.groupby('DIV_NAME')['NET_SALES_AMOUNT'].sum().plot(kind='bar')"
   ]
  },
  {
   "cell_type": "code",
   "execution_count": null,
   "metadata": {},
   "outputs": [],
   "source": []
  }
 ],
 "metadata": {
  "kernelspec": {
   "display_name": "Python 3",
   "language": "python",
   "name": "python3"
  },
  "language_info": {
   "codemirror_mode": {
    "name": "ipython",
    "version": 3
   },
   "file_extension": ".py",
   "mimetype": "text/x-python",
   "name": "python",
   "nbconvert_exporter": "python",
   "pygments_lexer": "ipython3",
   "version": "3.10.4"
  },
  "orig_nbformat": 4
 },
 "nbformat": 4,
 "nbformat_minor": 2
}
