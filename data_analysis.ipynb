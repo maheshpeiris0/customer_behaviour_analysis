{
 "cells": [
  {
   "cell_type": "code",
   "execution_count": 1,
   "metadata": {},
   "outputs": [],
   "source": [
    "import pandas as pd\n",
    "import numpy as np"
   ]
  },
  {
   "cell_type": "code",
   "execution_count": 10,
   "metadata": {},
   "outputs": [],
   "source": [
    "df = pd.read_csv('s3://data-files-http/customer_data.csv')"
   ]
  },
  {
   "cell_type": "code",
   "execution_count": 11,
   "metadata": {},
   "outputs": [
    {
     "name": "stdout",
     "output_type": "stream",
     "text": [
      "(99933, 17)\n"
     ]
    }
   ],
   "source": [
    "# 1. How many rows and columns are there?\n",
    "print(df.shape)"
   ]
  },
  {
   "cell_type": "code",
   "execution_count": 13,
   "metadata": {},
   "outputs": [
    {
     "name": "stdout",
     "output_type": "stream",
     "text": [
      "Index(['UCID', ' GENDER', ' AGE_GROUP2', ' MEMBERSHIP_DATE',\n",
      "       ' BRAND_REPORTING', ' LOCATION_NAME_REPORTING', ' STORE_COUNTRY',\n",
      "       ' BUSINESS_CHANNEL', ' INVOICE_NO', '  NET_SALES_AMOUNT ', ' SALES_QTY',\n",
      "       '  DISCOUNT_AMOUNT ', ' DAY_DT', ' DIV_NAME', ' DEPT_NAME',\n",
      "       ' CLASS_NAME', ' SUBCLASS_NAME'],\n",
      "      dtype='object')\n"
     ]
    }
   ],
   "source": [
    "# 2. What are the column names?\n",
    "print(df.columns)"
   ]
  },
  {
   "cell_type": "code",
   "execution_count": 19,
   "metadata": {},
   "outputs": [
    {
     "name": "stdout",
     "output_type": "stream",
     "text": [
      "UCID                          int64\n",
      " GENDER                      object\n",
      " AGE_GROUP2                  object\n",
      " MEMBERSHIP_DATE             object\n",
      " BRAND_REPORTING             object\n",
      " LOCATION_NAME_REPORTING     object\n",
      " STORE_COUNTRY               object\n",
      " BUSINESS_CHANNEL            object\n",
      " INVOICE_NO                 float64\n",
      "  NET_SALES_AMOUNT           object\n",
      " SALES_QTY                  float64\n",
      "  DISCOUNT_AMOUNT            object\n",
      " DAY_DT                      object\n",
      " DIV_NAME                    object\n",
      " DEPT_NAME                   object\n",
      " CLASS_NAME                  object\n",
      " SUBCLASS_NAME               object\n",
      "dtype: object\n"
     ]
    }
   ],
   "source": [
    "# 3. What are the data types of each column?\n",
    "print(df.dtypes)\n"
   ]
  },
  {
   "cell_type": "code",
   "execution_count": 18,
   "metadata": {},
   "outputs": [
    {
     "data": {
      "text/plain": [
       " AGE_GROUP2\n",
       "0-14            $331.10  $16.17  $75.75  $50.22  $122.99  $85...\n",
       "15-19           $47.62  $47.62  $47.62  $47.62  $65.71  $28.5...\n",
       "20-24           $67.19  $126.72  $122.86  $180.00  $75.24  $7...\n",
       "25-34           $31.43  $1,294.38  $157.81  $37.14  $37.14  $...\n",
       "35-44           $-    $126.82  $136.19  $1,655.87  $-    $1,2...\n",
       "45-54           $194.91  $169.38  $67.24  $18.10  $37.14  $19...\n",
       "55+             $114.91  $211.95  $67.24  $75.76  $84.27  $- ...\n",
       "UnSpecified     $127.71  $95.24  $84.86  $213.43  $684.86  $1...\n",
       "Name:   NET_SALES_AMOUNT , dtype: object"
      ]
     },
     "execution_count": 18,
     "metadata": {},
     "output_type": "execute_result"
    }
   ],
   "source": [
    "# group by net_sales_amount by gender\n",
    "df.groupby(' AGE_GROUP2')['  NET_SALES_AMOUNT '].sum()"
   ]
  },
  {
   "cell_type": "code",
   "execution_count": null,
   "metadata": {},
   "outputs": [],
   "source": []
  }
 ],
 "metadata": {
  "kernelspec": {
   "display_name": "Python 3",
   "language": "python",
   "name": "python3"
  },
  "language_info": {
   "codemirror_mode": {
    "name": "ipython",
    "version": 3
   },
   "file_extension": ".py",
   "mimetype": "text/x-python",
   "name": "python",
   "nbconvert_exporter": "python",
   "pygments_lexer": "ipython3",
   "version": "3.10.4"
  },
  "orig_nbformat": 4
 },
 "nbformat": 4,
 "nbformat_minor": 2
}
